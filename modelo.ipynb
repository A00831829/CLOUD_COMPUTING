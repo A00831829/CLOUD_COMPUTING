{
 "cells": [
  {
   "cell_type": "code",
   "execution_count": 1,
   "metadata": {},
   "outputs": [
    {
     "name": "stdout",
     "output_type": "stream",
     "text": [
      "Iniciando proceso de entrenamiento del modelo de predicción de bancarrota...\n"
     ]
    }
   ],
   "source": [
    "import kagglehub\n",
    "import pandas as pd\n",
    "import numpy as np\n",
    "from sklearn.model_selection import train_test_split\n",
    "from sklearn.linear_model import LogisticRegression\n",
    "from sklearn.metrics import classification_report, accuracy_score, roc_auc_score, f1_score\n",
    "import pickle\n",
    "import json\n",
    "\n",
    "print(\"Iniciando proceso de entrenamiento del modelo de predicción de bancarrota...\")"
   ]
  },
  {
   "cell_type": "code",
   "execution_count": 2,
   "metadata": {},
   "outputs": [
    {
     "name": "stdout",
     "output_type": "stream",
     "text": [
      "Descargando y cargando conjunto de datos...\n",
      "Warning: Looks like you're using an outdated `kagglehub` version, please consider updating (latest version: 0.3.11)\n",
      "Downloading from https://www.kaggle.com/api/v1/datasets/download/fedesoriano/company-bankruptcy-prediction?dataset_version_number=2...\n"
     ]
    },
    {
     "name": "stderr",
     "output_type": "stream",
     "text": [
      "100%|██████████| 4.63M/4.63M [00:00<00:00, 14.5MB/s]"
     ]
    },
    {
     "name": "stdout",
     "output_type": "stream",
     "text": [
      "Extracting model files...\n"
     ]
    },
    {
     "name": "stderr",
     "output_type": "stream",
     "text": [
      "\n"
     ]
    },
    {
     "name": "stdout",
     "output_type": "stream",
     "text": [
      "Dataset cargado con 6819 filas y 96 columnas.\n"
     ]
    },
    {
     "data": {
      "application/vnd.microsoft.datawrangler.viewer.v0+json": {
       "columns": [
        {
         "name": "index",
         "rawType": "int64",
         "type": "integer"
        },
        {
         "name": "Bankrupt?",
         "rawType": "int64",
         "type": "integer"
        },
        {
         "name": " ROA(C) before interest and depreciation before interest",
         "rawType": "float64",
         "type": "float"
        },
        {
         "name": " ROA(A) before interest and % after tax",
         "rawType": "float64",
         "type": "float"
        },
        {
         "name": " ROA(B) before interest and depreciation after tax",
         "rawType": "float64",
         "type": "float"
        },
        {
         "name": " Operating Gross Margin",
         "rawType": "float64",
         "type": "float"
        },
        {
         "name": " Realized Sales Gross Margin",
         "rawType": "float64",
         "type": "float"
        },
        {
         "name": " Operating Profit Rate",
         "rawType": "float64",
         "type": "float"
        },
        {
         "name": " Pre-tax net Interest Rate",
         "rawType": "float64",
         "type": "float"
        },
        {
         "name": " After-tax net Interest Rate",
         "rawType": "float64",
         "type": "float"
        },
        {
         "name": " Non-industry income and expenditure/revenue",
         "rawType": "float64",
         "type": "float"
        },
        {
         "name": " Continuous interest rate (after tax)",
         "rawType": "float64",
         "type": "float"
        },
        {
         "name": " Operating Expense Rate",
         "rawType": "float64",
         "type": "float"
        },
        {
         "name": " Research and development expense rate",
         "rawType": "float64",
         "type": "float"
        },
        {
         "name": " Cash flow rate",
         "rawType": "float64",
         "type": "float"
        },
        {
         "name": " Interest-bearing debt interest rate",
         "rawType": "float64",
         "type": "float"
        },
        {
         "name": " Tax rate (A)",
         "rawType": "float64",
         "type": "float"
        },
        {
         "name": " Net Value Per Share (B)",
         "rawType": "float64",
         "type": "float"
        },
        {
         "name": " Net Value Per Share (A)",
         "rawType": "float64",
         "type": "float"
        },
        {
         "name": " Net Value Per Share (C)",
         "rawType": "float64",
         "type": "float"
        },
        {
         "name": " Persistent EPS in the Last Four Seasons",
         "rawType": "float64",
         "type": "float"
        },
        {
         "name": " Cash Flow Per Share",
         "rawType": "float64",
         "type": "float"
        },
        {
         "name": " Revenue Per Share (Yuan ¥)",
         "rawType": "float64",
         "type": "float"
        },
        {
         "name": " Operating Profit Per Share (Yuan ¥)",
         "rawType": "float64",
         "type": "float"
        },
        {
         "name": " Per Share Net profit before tax (Yuan ¥)",
         "rawType": "float64",
         "type": "float"
        },
        {
         "name": " Realized Sales Gross Profit Growth Rate",
         "rawType": "float64",
         "type": "float"
        },
        {
         "name": " Operating Profit Growth Rate",
         "rawType": "float64",
         "type": "float"
        },
        {
         "name": " After-tax Net Profit Growth Rate",
         "rawType": "float64",
         "type": "float"
        },
        {
         "name": " Regular Net Profit Growth Rate",
         "rawType": "float64",
         "type": "float"
        },
        {
         "name": " Continuous Net Profit Growth Rate",
         "rawType": "float64",
         "type": "float"
        },
        {
         "name": " Total Asset Growth Rate",
         "rawType": "float64",
         "type": "float"
        },
        {
         "name": " Net Value Growth Rate",
         "rawType": "float64",
         "type": "float"
        },
        {
         "name": " Total Asset Return Growth Rate Ratio",
         "rawType": "float64",
         "type": "float"
        },
        {
         "name": " Cash Reinvestment %",
         "rawType": "float64",
         "type": "float"
        },
        {
         "name": " Current Ratio",
         "rawType": "float64",
         "type": "float"
        },
        {
         "name": " Quick Ratio",
         "rawType": "float64",
         "type": "float"
        },
        {
         "name": " Interest Expense Ratio",
         "rawType": "float64",
         "type": "float"
        },
        {
         "name": " Total debt/Total net worth",
         "rawType": "float64",
         "type": "float"
        },
        {
         "name": " Debt ratio %",
         "rawType": "float64",
         "type": "float"
        },
        {
         "name": " Net worth/Assets",
         "rawType": "float64",
         "type": "float"
        },
        {
         "name": " Long-term fund suitability ratio (A)",
         "rawType": "float64",
         "type": "float"
        },
        {
         "name": " Borrowing dependency",
         "rawType": "float64",
         "type": "float"
        },
        {
         "name": " Contingent liabilities/Net worth",
         "rawType": "float64",
         "type": "float"
        },
        {
         "name": " Operating profit/Paid-in capital",
         "rawType": "float64",
         "type": "float"
        },
        {
         "name": " Net profit before tax/Paid-in capital",
         "rawType": "float64",
         "type": "float"
        },
        {
         "name": " Inventory and accounts receivable/Net value",
         "rawType": "float64",
         "type": "float"
        },
        {
         "name": " Total Asset Turnover",
         "rawType": "float64",
         "type": "float"
        },
        {
         "name": " Accounts Receivable Turnover",
         "rawType": "float64",
         "type": "float"
        },
        {
         "name": " Average Collection Days",
         "rawType": "float64",
         "type": "float"
        },
        {
         "name": " Inventory Turnover Rate (times)",
         "rawType": "float64",
         "type": "float"
        },
        {
         "name": " Fixed Assets Turnover Frequency",
         "rawType": "float64",
         "type": "float"
        },
        {
         "name": " Net Worth Turnover Rate (times)",
         "rawType": "float64",
         "type": "float"
        },
        {
         "name": " Revenue per person",
         "rawType": "float64",
         "type": "float"
        },
        {
         "name": " Operating profit per person",
         "rawType": "float64",
         "type": "float"
        },
        {
         "name": " Allocation rate per person",
         "rawType": "float64",
         "type": "float"
        },
        {
         "name": " Working Capital to Total Assets",
         "rawType": "float64",
         "type": "float"
        },
        {
         "name": " Quick Assets/Total Assets",
         "rawType": "float64",
         "type": "float"
        },
        {
         "name": " Current Assets/Total Assets",
         "rawType": "float64",
         "type": "float"
        },
        {
         "name": " Cash/Total Assets",
         "rawType": "float64",
         "type": "float"
        },
        {
         "name": " Quick Assets/Current Liability",
         "rawType": "float64",
         "type": "float"
        },
        {
         "name": " Cash/Current Liability",
         "rawType": "float64",
         "type": "float"
        },
        {
         "name": " Current Liability to Assets",
         "rawType": "float64",
         "type": "float"
        },
        {
         "name": " Operating Funds to Liability",
         "rawType": "float64",
         "type": "float"
        },
        {
         "name": " Inventory/Working Capital",
         "rawType": "float64",
         "type": "float"
        },
        {
         "name": " Inventory/Current Liability",
         "rawType": "float64",
         "type": "float"
        },
        {
         "name": " Current Liabilities/Liability",
         "rawType": "float64",
         "type": "float"
        },
        {
         "name": " Working Capital/Equity",
         "rawType": "float64",
         "type": "float"
        },
        {
         "name": " Current Liabilities/Equity",
         "rawType": "float64",
         "type": "float"
        },
        {
         "name": " Long-term Liability to Current Assets",
         "rawType": "float64",
         "type": "float"
        },
        {
         "name": " Retained Earnings to Total Assets",
         "rawType": "float64",
         "type": "float"
        },
        {
         "name": " Total income/Total expense",
         "rawType": "float64",
         "type": "float"
        },
        {
         "name": " Total expense/Assets",
         "rawType": "float64",
         "type": "float"
        },
        {
         "name": " Current Asset Turnover Rate",
         "rawType": "float64",
         "type": "float"
        },
        {
         "name": " Quick Asset Turnover Rate",
         "rawType": "float64",
         "type": "float"
        },
        {
         "name": " Working capitcal Turnover Rate",
         "rawType": "float64",
         "type": "float"
        },
        {
         "name": " Cash Turnover Rate",
         "rawType": "float64",
         "type": "float"
        },
        {
         "name": " Cash Flow to Sales",
         "rawType": "float64",
         "type": "float"
        },
        {
         "name": " Fixed Assets to Assets",
         "rawType": "float64",
         "type": "float"
        },
        {
         "name": " Current Liability to Liability",
         "rawType": "float64",
         "type": "float"
        },
        {
         "name": " Current Liability to Equity",
         "rawType": "float64",
         "type": "float"
        },
        {
         "name": " Equity to Long-term Liability",
         "rawType": "float64",
         "type": "float"
        },
        {
         "name": " Cash Flow to Total Assets",
         "rawType": "float64",
         "type": "float"
        },
        {
         "name": " Cash Flow to Liability",
         "rawType": "float64",
         "type": "float"
        },
        {
         "name": " CFO to Assets",
         "rawType": "float64",
         "type": "float"
        },
        {
         "name": " Cash Flow to Equity",
         "rawType": "float64",
         "type": "float"
        },
        {
         "name": " Current Liability to Current Assets",
         "rawType": "float64",
         "type": "float"
        },
        {
         "name": " Liability-Assets Flag",
         "rawType": "int64",
         "type": "integer"
        },
        {
         "name": " Net Income to Total Assets",
         "rawType": "float64",
         "type": "float"
        },
        {
         "name": " Total assets to GNP price",
         "rawType": "float64",
         "type": "float"
        },
        {
         "name": " No-credit Interval",
         "rawType": "float64",
         "type": "float"
        },
        {
         "name": " Gross Profit to Sales",
         "rawType": "float64",
         "type": "float"
        },
        {
         "name": " Net Income to Stockholder's Equity",
         "rawType": "float64",
         "type": "float"
        },
        {
         "name": " Liability to Equity",
         "rawType": "float64",
         "type": "float"
        },
        {
         "name": " Degree of Financial Leverage (DFL)",
         "rawType": "float64",
         "type": "float"
        },
        {
         "name": " Interest Coverage Ratio (Interest expense to EBIT)",
         "rawType": "float64",
         "type": "float"
        },
        {
         "name": " Net Income Flag",
         "rawType": "int64",
         "type": "integer"
        },
        {
         "name": " Equity to Liability",
         "rawType": "float64",
         "type": "float"
        }
       ],
       "conversionMethod": "pd.DataFrame",
       "ref": "73d88461-df87-467a-aa26-361b6898dba1",
       "rows": [
        [
         "0",
         "1",
         "0.370594257300249",
         "0.424389446140427",
         "0.40574977247176",
         "0.601457213277793",
         "0.601457213277793",
         "0.998969203197885",
         "0.796887145860514",
         "0.808809360876843",
         "0.302646433889668",
         "0.780984850207341",
         "0.0001256968688759",
         "0.0",
         "0.458143143520965",
         "0.0007250725072507",
         "0.0",
         "0.147949938898487",
         "0.147949938898487",
         "0.147949938898487",
         "0.16914058806845",
         "0.311664426681757",
         "0.0175597803893099",
         "0.0959205276443286",
         "0.138736160277171",
         "0.0221022783580128",
         "0.848194994526472",
         "0.688979462807371",
         "0.688979462807371",
         "0.217535386199635",
         "4980000000.0",
         "0.000326977269203",
         "0.263099983681843",
         "0.363725271040572",
         "0.0022589633105668",
         "0.0012077550852353",
         "0.629951302036958",
         "0.0212659243655332",
         "0.207576261450555",
         "0.792423738549445",
         "0.0050244547286145",
         "0.390284354359258",
         "0.006478502486107",
         "0.0958848339765825",
         "0.137757333534424",
         "0.398035698256887",
         "0.0869565217391304",
         "0.0018138841264849",
         "0.0034873642818412",
         "0.0001820925974295",
         "0.0001165006532358",
         "0.0329032258064516",
         "0.0341641819543792",
         "0.392912869451166",
         "0.0371353015800987",
         "0.67277529248986",
         "0.166672958825266",
         "0.190642959052727",
         "0.004094405952288",
         "0.001996770860645",
         "0.0001473360247605",
         "0.147308450425486",
         "0.334015171333379",
         "0.276920158240506",
         "0.001035989991658",
         "0.676269176153092",
         "0.721274551521743",
         "0.339077006789355",
         "0.02559236799775",
         "0.903224771166726",
         "0.0020216130120256",
         "0.064855707690831",
         "701000000.0",
         "6550000000.0",
         "0.593830503987655",
         "458000000.0",
         "0.6715676535815",
         "0.424205762216667",
         "0.676269176153092",
         "0.339077006789355",
         "0.126549487816618",
         "0.637555395323871",
         "0.458609147666847",
         "0.52038191789012",
         "0.312904948119326",
         "0.11825047660899",
         "0",
         "0.716845343217827",
         "0.0092194400211029",
         "0.622878959445127",
         "0.601453290101533",
         "0.82789021403512",
         "0.29020189277926",
         "0.0266006307607414",
         "0.564050112276341",
         "1",
         "0.0164687409123162"
        ],
        [
         "1",
         "1",
         "0.464290937454297",
         "0.53821412996075",
         "0.516730017666899",
         "0.610235085544617",
         "0.610235085544617",
         "0.998945978205482",
         "0.797380191277827",
         "0.809300725667939",
         "0.303556430290771",
         "0.781505974330882",
         "0.0002897850537287",
         "0.0",
         "0.461867257156757",
         "0.0006470647064706",
         "0.0",
         "0.182251064009102",
         "0.182251064009102",
         "0.182251064009102",
         "0.2089439349532",
         "0.318136804131004",
         "0.0211443350424248",
         "0.0937220096083381",
         "0.16991790314077",
         "0.0220801698690499",
         "0.848087883815147",
         "0.689692901209989",
         "0.689701701610895",
         "0.217619596450422",
         "6110000000.0",
         "0.0004430401005442",
         "0.264515778104141",
         "0.376709139003763",
         "0.0060162058776727",
         "0.0040393668269104",
         "0.635172463390912",
         "0.0125023937843679",
         "0.171176346101521",
         "0.828823653898479",
         "0.0050588817540408",
         "0.376760019951553",
         "0.0058350394852296",
         "0.0937433843047209",
         "0.168961616770983",
         "0.397724882539793",
         "0.0644677661169415",
         "0.0012863563044647",
         "0.004916807917444",
         "9360000000.0",
         "719000000.0",
         "0.0254838709677419",
         "0.0068886506176284",
         "0.39158996856697",
         "0.0123349721287826",
         "0.751110917003808",
         "0.127236002293688",
         "0.182419054120616",
         "0.0149477269714099",
         "0.004136029760799",
         "0.0013839100814699",
         "0.0569628274180797",
         "0.341105991992958",
         "0.28964157642601",
         "0.0052096823995494",
         "0.30858859304371",
         "0.731975288512351",
         "0.329740147869877",
         "0.0239468186673397",
         "0.931065217577487",
         "0.0022256083431017",
         "0.0255158599950638",
         "0.0001065197627902",
         "7700000000.0",
         "0.59391554785427",
         "2490000000.0",
         "0.671569942261066",
         "0.468828128338473",
         "0.30858859304371",
         "0.329740147869877",
         "0.120916105834965",
         "0.64109998470196",
         "0.459001053294128",
         "0.567101308703163",
         "0.314163135184666",
         "0.0477752815903248",
         "0",
         "0.795297136043035",
         "0.0083233017948103",
         "0.623651741728055",
         "0.610236525929872",
         "0.839969268005573",
         "0.283845979801729",
         "0.264576819837375",
         "0.570174946412453",
         "1",
         "0.020794306334635"
        ],
        [
         "2",
         "1",
         "0.426071271876371",
         "0.499018752725687",
         "0.472295090743616",
         "0.601450006486113",
         "0.601363524985947",
         "0.998857353483229",
         "0.796403369254357",
         "0.808387521469543",
         "0.302035177342951",
         "0.780283936155909",
         "0.0002361297205563",
         "25500000.0",
         "0.458520587470538",
         "0.0007900790079007",
         "0.0",
         "0.177910749652353",
         "0.177910749652353",
         "0.193712865028865",
         "0.180580504869056",
         "0.30710193110278",
         "0.0059440083488361",
         "0.0923377575116033",
         "0.142803344128945",
         "0.0227600967722855",
         "0.84809401283004",
         "0.689462676951537",
         "0.689469659564714",
         "0.217601298963609",
         "7280000000.0",
         "0.0003964253147034",
         "0.264183975569387",
         "0.368913229760441",
         "0.0115425536893801",
         "0.0053475602224365",
         "0.629631443404885",
         "0.0212476860084444",
         "0.207515796474892",
         "0.792484203525108",
         "0.0050998994135753",
         "0.379092920106557",
         "0.0065619820610314",
         "0.0923184653215431",
         "0.148035593092527",
         "0.406580451031118",
         "0.0149925037481259",
         "0.0014953384801111",
         "0.004226849460116",
         "65000000.0",
         "2650000000.0",
         "0.0133870967741935",
         "0.0289969595934374",
         "0.381967843332353",
         "0.141016311871331",
         "0.829501914934622",
         "0.340200878481779",
         "0.602805701668708",
         "0.0009909444511248",
         "0.006302481382547",
         "5340000000.0",
         "0.0981620645437837",
         "0.33673149472",
         "0.277455528130626",
         "0.0138787857963224",
         "0.446027487157575",
         "0.742728637603645",
         "0.334776851319847",
         "0.0037151156933692",
         "0.90990336247412",
         "0.0020600706495246",
         "0.0213874282332057",
         "0.0017910937001909",
         "0.001022676471902",
         "0.594501851296042",
         "761000000.0",
         "0.671571321761166",
         "0.276179222234543",
         "0.446027487157575",
         "0.334776851319847",
         "0.117922319423666",
         "0.642764550242219",
         "0.459254035544147",
         "0.538490539586983",
         "0.31451542627367",
         "0.0253464891288078",
         "0",
         "0.774669696989803",
         "0.0400028528527523",
         "0.623841037589316",
         "0.601449340486212",
         "0.836774308550174",
         "0.290188532942043",
         "0.0265547199199004",
         "0.563706076496047",
         "1",
         "0.0164741143272785"
        ],
        [
         "3",
         "1",
         "0.399844001364988",
         "0.451264718709115",
         "0.457733283366347",
         "0.583541129160121",
         "0.583541129160121",
         "0.998699747067122",
         "0.796966968308828",
         "0.808965597694361",
         "0.303349536022685",
         "0.781240991205311",
         "0.0001078888488144",
         "0.0",
         "0.465705442741753",
         "0.0004490449044904",
         "0.0",
         "0.154186507100417",
         "0.154186507100417",
         "0.154186507100417",
         "0.193722227474709",
         "0.321673622409281",
         "0.0143684680188151",
         "0.0777623971989252",
         "0.148602847028696",
         "0.0220460668531945",
         "0.8480054773865",
         "0.689109535618137",
         "0.689109535618137",
         "0.217568188277463",
         "4880000000.0",
         "0.0003824259063219",
         "0.263371175917508",
         "0.384076599232517",
         "0.004194058676884",
         "0.0028964911470803",
         "0.63022835303626",
         "0.0095724017180532",
         "0.151464764035432",
         "0.848535235964567",
         "0.0050469240634646",
         "0.379742687599394",
         "0.0053658477137564",
         "0.0777272949338023",
         "0.147560515798205",
         "0.397924501254651",
         "0.0899550224887556",
         "0.0019660556136061",
         "0.0032149673166337",
         "7130000000.0",
         "9150000000.0",
         "0.0280645161290323",
         "0.015463478401363",
         "0.378496641866986",
         "0.0213199897441037",
         "0.725754179688242",
         "0.161574531573533",
         "0.225814868882578",
         "0.0188506248270314",
         "0.0029612376501386",
         "0.0010106464315761",
         "0.0987146304496934",
         "0.348716438967482",
         "0.276580304232685",
         "0.0035401478961941",
         "0.615848368585853",
         "0.729824908743367",
         "0.33150897867186",
         "0.0221651997451294",
         "0.906902158837211",
         "0.0018313585555101",
         "0.0241610701740241",
         "8140000000.0",
         "6050000000.0",
         "0.593888792576566",
         "2030000000.0",
         "0.671519170200148",
         "0.559143963323496",
         "0.615848368585853",
         "0.33150897867186",
         "0.12076045528683",
         "0.579039312335715",
         "0.448517911623987",
         "0.604105056187593",
         "0.302382254833178",
         "0.0672496172630687",
         "0",
         "0.739554525158061",
         "0.0032524752911273",
         "0.622928709143491",
         "0.583537612244893",
         "0.834697106753341",
         "0.281721192981814",
         "0.0266966344214761",
         "0.564663420271241",
         "1",
         "0.0239823322073886"
        ],
        [
         "4",
         "1",
         "0.465022181055916",
         "0.538432184910597",
         "0.522297767546443",
         "0.598783493564335",
         "0.598783493564335",
         "0.998973131803565",
         "0.797366080550396",
         "0.809303720206941",
         "0.303474977757658",
         "0.781550044617657",
         "7890000000.0",
         "0.0",
         "0.462746282177097",
         "0.0006860686068606",
         "0.0",
         "0.167502422991024",
         "0.167502422991024",
         "0.167502422991024",
         "0.212536636097192",
         "0.319162481431704",
         "0.0296897923378254",
         "0.0968976467714356",
         "0.168411538751224",
         "0.0220959097225217",
         "0.848258202198295",
         "0.689696883030727",
         "0.689696883030727",
         "0.217625639200419",
         "5510000000.0",
         "0.0004389475818729",
         "0.265218235929474",
         "0.379689653887709",
         "0.0060224461078124",
         "0.0037274466086162",
         "0.636054985548143",
         "0.0051496001240208",
         "0.106509054630105",
         "0.893490945369894",
         "0.0053033191962841",
         "0.375025442703033",
         "0.0066235253972896",
         "0.0969270604328497",
         "0.167460975793681",
         "0.400078775707608",
         "0.175412293853073",
         "0.001448672557394",
         "0.004366890533138",
         "0.000163367440506",
         "0.0002935211263343",
         "0.0401612903225807",
         "0.0581114228221436",
         "0.39437145247733",
         "0.0239882116504549",
         "0.751822452472965",
         "0.260329881066954",
         "0.358380159768393",
         "0.0141609737513009",
         "0.0042747708703925",
         "0.000680463559654",
         "0.110194845896651",
         "0.344638753643605",
         "0.287912652687691",
         "0.0048685702885864",
         "0.975006616109995",
         "0.731999641010921",
         "0.33072631939891",
         "0.0",
         "0.91385019745186",
         "0.0022239300347802",
         "0.0263852456518637",
         "6680000000.0",
         "5050000000.0",
         "0.59391526090563",
         "824000000.0",
         "0.67156305250703",
         "0.309554916594047",
         "0.975006616109995",
         "0.33072631939891",
         "0.110933233663468",
         "0.622374074998875",
         "0.454410931919338",
         "0.578468903211134",
         "0.311567160524111",
         "0.0477253717624306",
         "0",
         "0.79501587263578",
         "0.0038775630938002",
         "0.623520697668313",
         "0.598781509888099",
         "0.839972745788203",
         "0.278513789880418",
         "0.0247518480523254",
         "0.575616645216918",
         "1",
         "0.0354902008836198"
        ]
       ],
       "shape": {
        "columns": 96,
        "rows": 5
       }
      },
      "text/html": [
       "<div>\n",
       "<style scoped>\n",
       "    .dataframe tbody tr th:only-of-type {\n",
       "        vertical-align: middle;\n",
       "    }\n",
       "\n",
       "    .dataframe tbody tr th {\n",
       "        vertical-align: top;\n",
       "    }\n",
       "\n",
       "    .dataframe thead th {\n",
       "        text-align: right;\n",
       "    }\n",
       "</style>\n",
       "<table border=\"1\" class=\"dataframe\">\n",
       "  <thead>\n",
       "    <tr style=\"text-align: right;\">\n",
       "      <th></th>\n",
       "      <th>Bankrupt?</th>\n",
       "      <th>ROA(C) before interest and depreciation before interest</th>\n",
       "      <th>ROA(A) before interest and % after tax</th>\n",
       "      <th>ROA(B) before interest and depreciation after tax</th>\n",
       "      <th>Operating Gross Margin</th>\n",
       "      <th>Realized Sales Gross Margin</th>\n",
       "      <th>Operating Profit Rate</th>\n",
       "      <th>Pre-tax net Interest Rate</th>\n",
       "      <th>After-tax net Interest Rate</th>\n",
       "      <th>Non-industry income and expenditure/revenue</th>\n",
       "      <th>...</th>\n",
       "      <th>Net Income to Total Assets</th>\n",
       "      <th>Total assets to GNP price</th>\n",
       "      <th>No-credit Interval</th>\n",
       "      <th>Gross Profit to Sales</th>\n",
       "      <th>Net Income to Stockholder's Equity</th>\n",
       "      <th>Liability to Equity</th>\n",
       "      <th>Degree of Financial Leverage (DFL)</th>\n",
       "      <th>Interest Coverage Ratio (Interest expense to EBIT)</th>\n",
       "      <th>Net Income Flag</th>\n",
       "      <th>Equity to Liability</th>\n",
       "    </tr>\n",
       "  </thead>\n",
       "  <tbody>\n",
       "    <tr>\n",
       "      <th>0</th>\n",
       "      <td>1</td>\n",
       "      <td>0.370594</td>\n",
       "      <td>0.424389</td>\n",
       "      <td>0.405750</td>\n",
       "      <td>0.601457</td>\n",
       "      <td>0.601457</td>\n",
       "      <td>0.998969</td>\n",
       "      <td>0.796887</td>\n",
       "      <td>0.808809</td>\n",
       "      <td>0.302646</td>\n",
       "      <td>...</td>\n",
       "      <td>0.716845</td>\n",
       "      <td>0.009219</td>\n",
       "      <td>0.622879</td>\n",
       "      <td>0.601453</td>\n",
       "      <td>0.827890</td>\n",
       "      <td>0.290202</td>\n",
       "      <td>0.026601</td>\n",
       "      <td>0.564050</td>\n",
       "      <td>1</td>\n",
       "      <td>0.016469</td>\n",
       "    </tr>\n",
       "    <tr>\n",
       "      <th>1</th>\n",
       "      <td>1</td>\n",
       "      <td>0.464291</td>\n",
       "      <td>0.538214</td>\n",
       "      <td>0.516730</td>\n",
       "      <td>0.610235</td>\n",
       "      <td>0.610235</td>\n",
       "      <td>0.998946</td>\n",
       "      <td>0.797380</td>\n",
       "      <td>0.809301</td>\n",
       "      <td>0.303556</td>\n",
       "      <td>...</td>\n",
       "      <td>0.795297</td>\n",
       "      <td>0.008323</td>\n",
       "      <td>0.623652</td>\n",
       "      <td>0.610237</td>\n",
       "      <td>0.839969</td>\n",
       "      <td>0.283846</td>\n",
       "      <td>0.264577</td>\n",
       "      <td>0.570175</td>\n",
       "      <td>1</td>\n",
       "      <td>0.020794</td>\n",
       "    </tr>\n",
       "    <tr>\n",
       "      <th>2</th>\n",
       "      <td>1</td>\n",
       "      <td>0.426071</td>\n",
       "      <td>0.499019</td>\n",
       "      <td>0.472295</td>\n",
       "      <td>0.601450</td>\n",
       "      <td>0.601364</td>\n",
       "      <td>0.998857</td>\n",
       "      <td>0.796403</td>\n",
       "      <td>0.808388</td>\n",
       "      <td>0.302035</td>\n",
       "      <td>...</td>\n",
       "      <td>0.774670</td>\n",
       "      <td>0.040003</td>\n",
       "      <td>0.623841</td>\n",
       "      <td>0.601449</td>\n",
       "      <td>0.836774</td>\n",
       "      <td>0.290189</td>\n",
       "      <td>0.026555</td>\n",
       "      <td>0.563706</td>\n",
       "      <td>1</td>\n",
       "      <td>0.016474</td>\n",
       "    </tr>\n",
       "    <tr>\n",
       "      <th>3</th>\n",
       "      <td>1</td>\n",
       "      <td>0.399844</td>\n",
       "      <td>0.451265</td>\n",
       "      <td>0.457733</td>\n",
       "      <td>0.583541</td>\n",
       "      <td>0.583541</td>\n",
       "      <td>0.998700</td>\n",
       "      <td>0.796967</td>\n",
       "      <td>0.808966</td>\n",
       "      <td>0.303350</td>\n",
       "      <td>...</td>\n",
       "      <td>0.739555</td>\n",
       "      <td>0.003252</td>\n",
       "      <td>0.622929</td>\n",
       "      <td>0.583538</td>\n",
       "      <td>0.834697</td>\n",
       "      <td>0.281721</td>\n",
       "      <td>0.026697</td>\n",
       "      <td>0.564663</td>\n",
       "      <td>1</td>\n",
       "      <td>0.023982</td>\n",
       "    </tr>\n",
       "    <tr>\n",
       "      <th>4</th>\n",
       "      <td>1</td>\n",
       "      <td>0.465022</td>\n",
       "      <td>0.538432</td>\n",
       "      <td>0.522298</td>\n",
       "      <td>0.598783</td>\n",
       "      <td>0.598783</td>\n",
       "      <td>0.998973</td>\n",
       "      <td>0.797366</td>\n",
       "      <td>0.809304</td>\n",
       "      <td>0.303475</td>\n",
       "      <td>...</td>\n",
       "      <td>0.795016</td>\n",
       "      <td>0.003878</td>\n",
       "      <td>0.623521</td>\n",
       "      <td>0.598782</td>\n",
       "      <td>0.839973</td>\n",
       "      <td>0.278514</td>\n",
       "      <td>0.024752</td>\n",
       "      <td>0.575617</td>\n",
       "      <td>1</td>\n",
       "      <td>0.035490</td>\n",
       "    </tr>\n",
       "  </tbody>\n",
       "</table>\n",
       "<p>5 rows × 96 columns</p>\n",
       "</div>"
      ],
      "text/plain": [
       "   Bankrupt?   ROA(C) before interest and depreciation before interest  \\\n",
       "0          1                                           0.370594          \n",
       "1          1                                           0.464291          \n",
       "2          1                                           0.426071          \n",
       "3          1                                           0.399844          \n",
       "4          1                                           0.465022          \n",
       "\n",
       "    ROA(A) before interest and % after tax  \\\n",
       "0                                 0.424389   \n",
       "1                                 0.538214   \n",
       "2                                 0.499019   \n",
       "3                                 0.451265   \n",
       "4                                 0.538432   \n",
       "\n",
       "    ROA(B) before interest and depreciation after tax  \\\n",
       "0                                           0.405750    \n",
       "1                                           0.516730    \n",
       "2                                           0.472295    \n",
       "3                                           0.457733    \n",
       "4                                           0.522298    \n",
       "\n",
       "    Operating Gross Margin   Realized Sales Gross Margin  \\\n",
       "0                 0.601457                      0.601457   \n",
       "1                 0.610235                      0.610235   \n",
       "2                 0.601450                      0.601364   \n",
       "3                 0.583541                      0.583541   \n",
       "4                 0.598783                      0.598783   \n",
       "\n",
       "    Operating Profit Rate   Pre-tax net Interest Rate  \\\n",
       "0                0.998969                    0.796887   \n",
       "1                0.998946                    0.797380   \n",
       "2                0.998857                    0.796403   \n",
       "3                0.998700                    0.796967   \n",
       "4                0.998973                    0.797366   \n",
       "\n",
       "    After-tax net Interest Rate   Non-industry income and expenditure/revenue  \\\n",
       "0                      0.808809                                      0.302646   \n",
       "1                      0.809301                                      0.303556   \n",
       "2                      0.808388                                      0.302035   \n",
       "3                      0.808966                                      0.303350   \n",
       "4                      0.809304                                      0.303475   \n",
       "\n",
       "   ...   Net Income to Total Assets   Total assets to GNP price  \\\n",
       "0  ...                     0.716845                    0.009219   \n",
       "1  ...                     0.795297                    0.008323   \n",
       "2  ...                     0.774670                    0.040003   \n",
       "3  ...                     0.739555                    0.003252   \n",
       "4  ...                     0.795016                    0.003878   \n",
       "\n",
       "    No-credit Interval   Gross Profit to Sales  \\\n",
       "0             0.622879                0.601453   \n",
       "1             0.623652                0.610237   \n",
       "2             0.623841                0.601449   \n",
       "3             0.622929                0.583538   \n",
       "4             0.623521                0.598782   \n",
       "\n",
       "    Net Income to Stockholder's Equity   Liability to Equity  \\\n",
       "0                             0.827890              0.290202   \n",
       "1                             0.839969              0.283846   \n",
       "2                             0.836774              0.290189   \n",
       "3                             0.834697              0.281721   \n",
       "4                             0.839973              0.278514   \n",
       "\n",
       "    Degree of Financial Leverage (DFL)  \\\n",
       "0                             0.026601   \n",
       "1                             0.264577   \n",
       "2                             0.026555   \n",
       "3                             0.026697   \n",
       "4                             0.024752   \n",
       "\n",
       "    Interest Coverage Ratio (Interest expense to EBIT)   Net Income Flag  \\\n",
       "0                                           0.564050                   1   \n",
       "1                                           0.570175                   1   \n",
       "2                                           0.563706                   1   \n",
       "3                                           0.564663                   1   \n",
       "4                                           0.575617                   1   \n",
       "\n",
       "    Equity to Liability  \n",
       "0              0.016469  \n",
       "1              0.020794  \n",
       "2              0.016474  \n",
       "3              0.023982  \n",
       "4              0.035490  \n",
       "\n",
       "[5 rows x 96 columns]"
      ]
     },
     "execution_count": 2,
     "metadata": {},
     "output_type": "execute_result"
    }
   ],
   "source": [
    "# 1. Cargar los datos\n",
    "print(\"Descargando y cargando conjunto de datos...\")\n",
    "path = kagglehub.dataset_download(\"fedesoriano/company-bankruptcy-prediction\")\n",
    "data = pd.read_csv(path+\"/data.csv\")\n",
    "\n",
    "print(f\"Dataset cargado con {data.shape[0]} filas y {data.shape[1]} columnas.\")\n",
    "\n",
    "# Mostrar las primeras filas para explorar\n",
    "data.head()"
   ]
  },
  {
   "cell_type": "code",
   "execution_count": 3,
   "metadata": {},
   "outputs": [
    {
     "name": "stdout",
     "output_type": "stream",
     "text": [
      "Valores nulos por columna:\n",
      "Series([], dtype: int64)\n",
      "Distribución de clases en el conjunto de datos:\n",
      "0    6599\n",
      "1     220\n",
      "Name: Bankrupt?, dtype: int64\n",
      "Porcentaje de empresas en bancarrota: 3.23%\n"
     ]
    }
   ],
   "source": [
    "# 2. Verificar si hay valores nulos\n",
    "null_counts = data.isnull().sum()\n",
    "print(\"Valores nulos por columna:\")\n",
    "print(null_counts[null_counts > 0])  # Solo muestra columnas con valores nulos\n",
    "\n",
    "if null_counts.sum() > 0:\n",
    "    print(\"Se encontraron valores nulos en el conjunto de datos. Reemplazando con la media...\")\n",
    "    # Rellenar valores nulos con la media para columnas numéricas\n",
    "    for col in data.select_dtypes(include=['float64', 'int64']).columns:\n",
    "        if data[col].isnull().sum() > 0:\n",
    "            data[col].fillna(data[col].mean(), inplace=True)\n",
    "\n",
    "# Verificar distribución de la variable objetivo\n",
    "print(f\"Distribución de clases en el conjunto de datos:\")\n",
    "print(data[\"Bankrupt?\"].value_counts())\n",
    "print(f\"Porcentaje de empresas en bancarrota: {100 * data['Bankrupt?'].mean():.2f}%\")"
   ]
  },
  {
   "cell_type": "code",
   "execution_count": 4,
   "metadata": {},
   "outputs": [
    {
     "name": "stdout",
     "output_type": "stream",
     "text": [
      "Datos divididos: 5455 registros para entrenamiento, 1364 para prueba\n"
     ]
    }
   ],
   "source": [
    "# 3. Separar características y etiqueta objetivo\n",
    "X = data.drop([\"Bankrupt?\"], axis=1)\n",
    "y = data[\"Bankrupt?\"]\n",
    "\n",
    "# 4. Dividir en conjuntos de entrenamiento y prueba\n",
    "X_train, X_test, y_train, y_test = train_test_split(X, y, test_size=0.2, random_state=42, stratify=y)\n",
    "\n",
    "print(f\"Datos divididos: {X_train.shape[0]} registros para entrenamiento, {X_test.shape[0]} para prueba\")"
   ]
  },
  {
   "cell_type": "code",
   "execution_count": 5,
   "metadata": {},
   "outputs": [
    {
     "name": "stdout",
     "output_type": "stream",
     "text": [
      "Entrenando modelo de Regresión Logística...\n"
     ]
    },
    {
     "data": {
      "text/plain": [
       "LogisticRegression(class_weight='balanced', max_iter=1000, random_state=42)"
      ]
     },
     "execution_count": 5,
     "metadata": {},
     "output_type": "execute_result"
    }
   ],
   "source": [
    "# 5. Entrenar el modelo\n",
    "print(\"Entrenando modelo de Regresión Logística...\")\n",
    "# Usamos class_weight='balanced' para manejar el desbalance de clases\n",
    "model = LogisticRegression(max_iter=1000, class_weight='balanced', random_state=42)\n",
    "model.fit(X_train, y_train)"
   ]
  },
  {
   "cell_type": "code",
   "execution_count": 6,
   "metadata": {},
   "outputs": [
    {
     "name": "stdout",
     "output_type": "stream",
     "text": [
      "\n",
      "Resultados del modelo:\n",
      "Accuracy: 0.7478\n",
      "ROC AUC: 0.6220\n",
      "\n",
      "Informe detallado de clasificación:\n",
      "              precision    recall  f1-score   support\n",
      "\n",
      "           0       0.97      0.76      0.85      1320\n",
      "           1       0.05      0.36      0.09        44\n",
      "\n",
      "    accuracy                           0.75      1364\n",
      "   macro avg       0.51      0.56      0.47      1364\n",
      "weighted avg       0.94      0.75      0.83      1364\n",
      "\n"
     ]
    }
   ],
   "source": [
    "# 6. Evaluar el modelo\n",
    "y_pred = model.predict(X_test)\n",
    "y_pred_proba = model.predict_proba(X_test)[:, 1]  # Probabilidad de la clase positiva\n",
    "\n",
    "print(\"\\nResultados del modelo:\")\n",
    "print(f\"Accuracy: {accuracy_score(y_test, y_pred):.4f}\")\n",
    "print(f\"ROC AUC: {roc_auc_score(y_test, y_pred_proba):.4f}\")\n",
    "print(\"\\nInforme detallado de clasificación:\")\n",
    "print(classification_report(y_test, y_pred))"
   ]
  },
  {
   "cell_type": "code",
   "execution_count": 7,
   "metadata": {},
   "outputs": [
    {
     "name": "stdout",
     "output_type": "stream",
     "text": [
      "\n",
      "Umbral óptimo encontrado: 0.5500 (F1-score: 0.0989)\n"
     ]
    },
    {
     "data": {
      "image/png": "[encoded data removed]",
      "text/plain": [
       "<Figure size 1000x600 with 1 Axes>"
      ]
     },
     "metadata": {},
     "output_type": "display_data"
    }
   ],
   "source": [
    "# 7. Calcular un umbral óptimo para maximizar F1-score\n",
    "# Este es un enfoque simple para encontrar el mejor umbral\n",
    "thresholds = np.arange(0.1, 0.9, 0.05)\n",
    "best_f1 = 0\n",
    "best_threshold = 0.5  # Valor predeterminado\n",
    "\n",
    "results = []\n",
    "for threshold in thresholds:\n",
    "    y_pred_threshold = (y_pred_proba >= threshold).astype(int)\n",
    "    f1 = f1_score(y_test, y_pred_threshold)\n",
    "    results.append({\"threshold\": threshold, \"f1_score\": f1})\n",
    "    if f1 > best_f1:\n",
    "        best_f1 = f1\n",
    "        best_threshold = threshold\n",
    "\n",
    "print(f\"\\nUmbral óptimo encontrado: {best_threshold:.4f} (F1-score: {best_f1:.4f})\")\n",
    "\n",
    "# Visualizar los resultados (opcional)\n",
    "import matplotlib.pyplot as plt\n",
    "results_df = pd.DataFrame(results)\n",
    "plt.figure(figsize=(10, 6))\n",
    "plt.plot(results_df['threshold'], results_df['f1_score'], marker='o')\n",
    "plt.xlabel('Umbral de decisión')\n",
    "plt.ylabel('F1-score')\n",
    "plt.title('F1-score vs Umbral de decisión')\n",
    "plt.grid(True)\n",
    "plt.show()"
   ]
  },
  {
   "cell_type": "code",
   "execution_count": 8,
   "metadata": {},
   "outputs": [
    {
     "name": "stdout",
     "output_type": "stream",
     "text": [
      "\n",
      "Guardando modelo y umbral...\n",
      "\n",
      "CÓMO PREDECIR CON ESTE MODELO:\n",
      "\n",
      " Paso 1.- Calcular probabilidades con el modelo de regresión logística.\n",
      " PASO 2.- Si la probabilidad es mayor a 0.5500 entonces predecir 1 (bancarrota).\n",
      "          De lo contrario, predecir 0 (no bancarrota).\n",
      "\n",
      "Modelo guardado como 'model.pkl'\n",
      "Umbral guardado como 'umbral.json'\n",
      "\n",
      "Proceso de entrenamiento completado.\n"
     ]
    }
   ],
   "source": [
    "# 8. Guardar el modelo y el umbral\n",
    "print(\"\\nGuardando modelo y umbral...\")\n",
    "\n",
    "# Guardar el modelo\n",
    "with open('model.pkl', 'wb') as file:\n",
    "    pickle.dump(model, file)\n",
    "\n",
    "# Guardar el umbral como JSON\n",
    "umbral_json = json.dumps({\"umbral\": [best_threshold]})\n",
    "with open(\"umbral.json\", \"w\") as file:\n",
    "    file.write(umbral_json)\n",
    "\n",
    "print(f\"\"\"\n",
    "CÓMO PREDECIR CON ESTE MODELO:\n",
    "\n",
    " Paso 1.- Calcular probabilidades con el modelo de regresión logística.\n",
    " PASO 2.- Si la probabilidad es mayor a {best_threshold:.4f} entonces predecir 1 (bancarrota).\n",
    "          De lo contrario, predecir 0 (no bancarrota).\n",
    "\n",
    "Modelo guardado como 'model.pkl'\n",
    "Umbral guardado como 'umbral.json'\n",
    "\"\"\")\n",
    "\n",
    "print(\"Proceso de entrenamiento completado.\")"
   ]
  }
 ],
 "metadata": {
  "kernelspec": {
   "display_name": "Python 3.7 (UV)",
   "language": "python",
   "name": "venv"
  },
  "language_info": {
   "codemirror_mode": {
    "name": "ipython",
    "version": 3
   },
   "file_extension": ".py",
   "mimetype": "text/x-python",
   "name": "python",
   "nbconvert_exporter": "python",
   "pygments_lexer": "ipython3",
   "version": "3.7.9"
  }
 },
 "nbformat": 4,
 "nbformat_minor": 2
}
